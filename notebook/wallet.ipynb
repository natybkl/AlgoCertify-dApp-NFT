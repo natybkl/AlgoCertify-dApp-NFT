{
 "cells": [
  {
   "cell_type": "markdown",
   "metadata": {},
   "source": [
    "### Import packges"
   ]
  },
  {
   "cell_type": "code",
   "execution_count": 1,
   "metadata": {},
   "outputs": [],
   "source": [
    "import os\n",
    "import sys\n",
    "sys.path.append(os.path.abspath(os.path.join('../scripts')))\n",
    "\n",
    "from kmd_wallet import KmdAlgorand\n",
    "kmd_algo = KmdAlgorand()"
   ]
  },
  {
   "cell_type": "markdown",
   "metadata": {},
   "source": [
    "### create wallets"
   ]
  },
  {
   "cell_type": "code",
   "execution_count": 2,
   "metadata": {},
   "outputs": [
    {
     "data": {
      "text/plain": [
       "'76IMCJF25JN6PRRCRECQ67VK2K4D3XZH7W35J44AM7LO2QBICK5QONKHHY'"
      ]
     },
     "execution_count": 2,
     "metadata": {},
     "output_type": "execute_result"
    }
   ],
   "source": [
    "DEFAULT_KMD_WALLET_NAME = \"unencrypted-default-wallet\"\n",
    "DEFAULT_KMD_WALLET_PASSWORD = \"\"\n",
    "default_wallet = kmd_algo.create_user_wallet(wallet_name=DEFAULT_KMD_WALLET_NAME, wallet_password=DEFAULT_KMD_WALLET_PASSWORD)\n",
    "\n",
    "\n",
    "user_wallet = kmd_algo.create_user_wallet(wallet_name=\"user\", wallet_password=\"user\")\n",
    "kmd_algo.get_account_address(user_wallet)"
   ]
  },
  {
   "cell_type": "markdown",
   "metadata": {},
   "source": [
    "### Get wallets accounts list"
   ]
  },
  {
   "cell_type": "code",
   "execution_count": 3,
   "metadata": {},
   "outputs": [
    {
     "data": {
      "text/plain": [
       "['E233ZFSBURTANGXL4VCBCKS7KSGCD2FCOFGBPCIXMML5OTYL7GRH6SFBHU',\n",
       " 'OI6JIQRV47KZQNBSKSQK3SSV37TDWZ2LPB7MI7XUZPLC7DB23NMY2GZNEY',\n",
       " 'XG7NH2RQF5YNHZTJTBJGLEQJVNGZ7DI7P5OYT2GHTUYND7UYICYOGPPFBA',\n",
       " '6ABVBRACIYSATL73ZGQKKZDBDGFMEVH5HA6O54XJRDE5POBI2X4KOLYCQU']"
      ]
     },
     "execution_count": 3,
     "metadata": {},
     "output_type": "execute_result"
    }
   ],
   "source": [
    "default_wallet.list_keys()"
   ]
  },
  {
   "cell_type": "code",
   "execution_count": 4,
   "metadata": {},
   "outputs": [
    {
     "data": {
      "text/plain": [
       "['76IMCJF25JN6PRRCRECQ67VK2K4D3XZH7W35J44AM7LO2QBICK5QONKHHY']"
      ]
     },
     "execution_count": 4,
     "metadata": {},
     "output_type": "execute_result"
    }
   ],
   "source": [
    "user_wallet.list_keys()"
   ]
  },
  {
   "cell_type": "markdown",
   "metadata": {},
   "source": [
    "### Check the balance of the accounts"
   ]
  },
  {
   "cell_type": "code",
   "execution_count": 8,
   "metadata": {},
   "outputs": [],
   "source": [
    "default_account = default_wallet.list_keys()[0]\n",
    "user_account = user_wallet.list_keys()[0]"
   ]
  },
  {
   "cell_type": "code",
   "execution_count": 35,
   "metadata": {},
   "outputs": [
    {
     "data": {
      "text/plain": [
       "{'address': 'E233ZFSBURTANGXL4VCBCKS7KSGCD2FCOFGBPCIXMML5OTYL7GRH6SFBHU',\n",
       " 'amount': 3999997499975000,\n",
       " 'amount-without-pending-rewards': 3999997499975000,\n",
       " 'apps-local-state': [],\n",
       " 'apps-total-schema': {'num-byte-slice': 0, 'num-uint': 0},\n",
       " 'assets': [],\n",
       " 'created-apps': [],\n",
       " 'created-assets': [],\n",
       " 'min-balance': 100000,\n",
       " 'participation': {'selection-participation-key': 'cJaw20sosTc/VMJZVTllYs2n4YDMItvgHaNzWUAjfZU=',\n",
       "  'state-proof-key': '8m9YoOyFe/SZNmRxEoYPkTv7rCmZpIcA1bI7e7GVDVHRxcBi0RtGiU7il040c8caJGgYTBucFMvK+QRIaAlhpA==',\n",
       "  'vote-first-valid': 0,\n",
       "  'vote-key-dilution': 10000,\n",
       "  'vote-last-valid': 30000,\n",
       "  'vote-participation-key': 'zBZTrRWzZHAiklhqrynWWRZuA4ndJYpBxbPI4nbyoDk='},\n",
       " 'pending-rewards': 0,\n",
       " 'reward-base': 0,\n",
       " 'rewards': 0,\n",
       " 'round': 33,\n",
       " 'status': 'Online',\n",
       " 'total-apps-opted-in': 0,\n",
       " 'total-assets-opted-in': 0,\n",
       " 'total-created-apps': 0,\n",
       " 'total-created-assets': 0}"
      ]
     },
     "execution_count": 35,
     "metadata": {},
     "output_type": "execute_result"
    }
   ],
   "source": [
    "# default account balance\n",
    "kmd_algo.query_account_information(default_account)"
   ]
  },
  {
   "cell_type": "code",
   "execution_count": 37,
   "metadata": {},
   "outputs": [
    {
     "data": {
      "text/plain": [
       "{'address': '76IMCJF25JN6PRRCRECQ67VK2K4D3XZH7W35J44AM7LO2QBICK5QONKHHY',\n",
       " 'amount': 0,\n",
       " 'amount-without-pending-rewards': 0,\n",
       " 'apps-local-state': [],\n",
       " 'apps-total-schema': {'num-byte-slice': 0, 'num-uint': 0},\n",
       " 'assets': [],\n",
       " 'created-apps': [],\n",
       " 'created-assets': [],\n",
       " 'min-balance': 100000,\n",
       " 'pending-rewards': 0,\n",
       " 'reward-base': 0,\n",
       " 'rewards': 0,\n",
       " 'round': 33,\n",
       " 'status': 'Offline',\n",
       " 'total-apps-opted-in': 0,\n",
       " 'total-assets-opted-in': 0,\n",
       " 'total-created-apps': 0,\n",
       " 'total-created-assets': 0}"
      ]
     },
     "execution_count": 37,
     "metadata": {},
     "output_type": "execute_result"
    }
   ],
   "source": [
    "kmd_algo.query_account_information(user_account)"
   ]
  },
  {
   "cell_type": "markdown",
   "metadata": {},
   "source": [
    "### Transfer algos from default account to user account"
   ]
  },
  {
   "cell_type": "code",
   "execution_count": 43,
   "metadata": {},
   "outputs": [],
   "source": [
    "from algosdk.v2client import algod\n",
    "# Specify the node address and token.\n",
    "\n",
    "algod_address = \"http://localhost:4001\"\n",
    "algod_token = \"aaaaaaaaaaaaaaaaaaaaaaaaaaaaaaaaaaaaaaaaaaaaaaaaaaaaaaaaaaaaaaaa\"\n",
    "\n",
    "# Initialize an algod client\n",
    "algod_client = algod.AlgodClient(algod_token=algod_token, algod_address=algod_address)"
   ]
  },
  {
   "cell_type": "code",
   "execution_count": 44,
   "metadata": {},
   "outputs": [],
   "source": [
    "from algosdk import transaction\n",
    "\n",
    "def send_alogs_transaction(algod_client, receiver_address, sender_address, sender_private_key, amount):\n",
    "\n",
    "    # Construct the transaction\n",
    "    params = algod_client.suggested_params()\n",
    "\n",
    "    txn = transaction.PaymentTxn(\n",
    "        sender=sender_address,\n",
    "        receiver=receiver_address,\n",
    "        amt=amount,\n",
    "        sp=params\n",
    "    )\n",
    "\n",
    "    # Sign the transaction with the sender's private key\n",
    "    signed_txn = txn.sign(sender_private_key)\n",
    "\n",
    "    # Send the transaction to the Algorand network\n",
    "    try:\n",
    "        tx_id = algod_client.send_transaction(signed_txn)\n",
    "        print(\"Transaction ID:\", tx_id)\n",
    "    except Exception as e:\n",
    "        print(\"Transaction failed:\", e)\n"
   ]
  },
  {
   "cell_type": "code",
   "execution_count": 45,
   "metadata": {},
   "outputs": [],
   "source": [
    "sender_private_key = default_wallet.export_key(default_account)"
   ]
  },
  {
   "cell_type": "code",
   "execution_count": 46,
   "metadata": {},
   "outputs": [
    {
     "name": "stdout",
     "output_type": "stream",
     "text": [
      "Transaction ID: AKEN67232DAJVDXQ6F2MAIAHNT34NOGU5I7LC656SZYVFVY2F2LA\n"
     ]
    }
   ],
   "source": [
    "send_alogs_transaction(\n",
    "    algod_client=algod_client, \n",
    "    receiver_address=user_account, \n",
    "    sender_address=default_account, \n",
    "    sender_private_key=sender_private_key, \n",
    "    amount=1000000)"
   ]
  },
  {
   "cell_type": "markdown",
   "metadata": {},
   "source": [
    "### Check the balance of the user"
   ]
  },
  {
   "cell_type": "code",
   "execution_count": 47,
   "metadata": {},
   "outputs": [
    {
     "data": {
      "text/plain": [
       "{'address': '76IMCJF25JN6PRRCRECQ67VK2K4D3XZH7W35J44AM7LO2QBICK5QONKHHY',\n",
       " 'amount': 1100000,\n",
       " 'amount-without-pending-rewards': 1100000,\n",
       " 'apps-local-state': [],\n",
       " 'apps-total-schema': {'num-byte-slice': 0, 'num-uint': 0},\n",
       " 'assets': [],\n",
       " 'created-apps': [],\n",
       " 'created-assets': [],\n",
       " 'min-balance': 100000,\n",
       " 'pending-rewards': 0,\n",
       " 'reward-base': 0,\n",
       " 'rewards': 0,\n",
       " 'round': 35,\n",
       " 'status': 'Offline',\n",
       " 'total-apps-opted-in': 0,\n",
       " 'total-assets-opted-in': 0,\n",
       " 'total-created-apps': 0,\n",
       " 'total-created-assets': 0}"
      ]
     },
     "execution_count": 47,
     "metadata": {},
     "output_type": "execute_result"
    }
   ],
   "source": [
    "kmd_algo.query_account_information(user_account)"
   ]
  },
  {
   "cell_type": "markdown",
   "metadata": {},
   "source": [
    "### Create asset"
   ]
  },
  {
   "cell_type": "code",
   "execution_count": 48,
   "metadata": {},
   "outputs": [],
   "source": [
    "def create_asset(sender_address, sender_private_key, asset_url):\n",
    "    sp = algod_client.suggested_params()\n",
    "    txn = transaction.AssetConfigTxn(\n",
    "        sender=sender_address,\n",
    "        sp=sp,\n",
    "        default_frozen=False,\n",
    "        unit_name=\"rug\",\n",
    "        asset_name=\"Really Useful Gift\",\n",
    "        manager=sender_address,\n",
    "        reserve=sender_address,\n",
    "        freeze=sender_address,\n",
    "        clawback=sender_address,\n",
    "        url=asset_url,\n",
    "        total=1000,\n",
    "        decimals=0,\n",
    "    )\n",
    "\n",
    "    # Sign with secret key of creator\n",
    "    stxn = txn.sign(sender_private_key)\n",
    "    # Send the transaction to the network and retrieve the txid.\n",
    "    txid = algod_client.send_transaction(stxn)\n",
    "    print(f\"Sent asset create transaction with txid: {txid}\")\n",
    "    # Wait for the transaction to be confirmed\n",
    "    results = transaction.wait_for_confirmation(algod_client, txid, 4)\n",
    "    print(f\"Result confirmed in round: {results['confirmed-round']}\")\n",
    "    return results"
   ]
  },
  {
   "cell_type": "code",
   "execution_count": 50,
   "metadata": {},
   "outputs": [],
   "source": [
    "sender_private_key = user_wallet.export_key(user_account)"
   ]
  },
  {
   "cell_type": "code",
   "execution_count": 51,
   "metadata": {},
   "outputs": [
    {
     "name": "stdout",
     "output_type": "stream",
     "text": [
      "Sent asset create transaction with txid: VC3BEFTNWGAFCNV6CEKELGOWEHCAERRJTUMJRIEPTD6EKWQLGVUQ\n",
      "Result confirmed in round: 36\n"
     ]
    },
    {
     "data": {
      "text/plain": [
       "{'asset-index': 1036,\n",
       " 'confirmed-round': 36,\n",
       " 'pool-error': '',\n",
       " 'txn': {'sig': 'YJmPVw19UkdwuMi5jz9KlUj3x46/Gpfa6IjbMjwPiXfMKFYbHGl8WK5Yc4eXMdbE/LSrYtEoSoTQF2c7fwnuCQ==',\n",
       "  'txn': {'apar': {'an': 'Really Useful Gift',\n",
       "    'au': 'https://path/to/my/asset/details',\n",
       "    'c': '76IMCJF25JN6PRRCRECQ67VK2K4D3XZH7W35J44AM7LO2QBICK5QONKHHY',\n",
       "    'f': '76IMCJF25JN6PRRCRECQ67VK2K4D3XZH7W35J44AM7LO2QBICK5QONKHHY',\n",
       "    'm': '76IMCJF25JN6PRRCRECQ67VK2K4D3XZH7W35J44AM7LO2QBICK5QONKHHY',\n",
       "    'r': '76IMCJF25JN6PRRCRECQ67VK2K4D3XZH7W35J44AM7LO2QBICK5QONKHHY',\n",
       "    't': 1000,\n",
       "    'un': 'rug'},\n",
       "   'fee': 1000,\n",
       "   'fv': 35,\n",
       "   'gen': 'dockernet-v1',\n",
       "   'gh': 'oLccfqHgI2WWmPc2Q/RqC5JO3vUfoBRcRLItBflYebo=',\n",
       "   'lv': 1035,\n",
       "   'snd': '76IMCJF25JN6PRRCRECQ67VK2K4D3XZH7W35J44AM7LO2QBICK5QONKHHY',\n",
       "   'type': 'acfg'}}}"
      ]
     },
     "execution_count": 51,
     "metadata": {},
     "output_type": "execute_result"
    }
   ],
   "source": [
    "create_asset(\n",
    "    sender_address=user_account, \n",
    "    sender_private_key=sender_private_key, \n",
    "    asset_url=\"https://path/to/my/asset/details\")"
   ]
  }
 ],
 "metadata": {
  "kernelspec": {
   "display_name": "tenx_week5",
   "language": "python",
   "name": "python3"
  },
  "language_info": {
   "codemirror_mode": {
    "name": "ipython",
    "version": 3
   },
   "file_extension": ".py",
   "mimetype": "text/x-python",
   "name": "python",
   "nbconvert_exporter": "python",
   "pygments_lexer": "ipython3",
   "version": "3.12.1"
  }
 },
 "nbformat": 4,
 "nbformat_minor": 2
}
